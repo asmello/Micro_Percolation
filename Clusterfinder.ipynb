{
 "cells": [
  {
   "cell_type": "code",
   "execution_count": 1,
   "metadata": {},
   "outputs": [],
   "source": [
    "import numpy as np\n",
    "import matplotlib.pyplot as plt"
   ]
  },
  {
   "cell_type": "markdown",
   "metadata": {},
   "source": [
    "# Find/Union Algorithm for the percolation problem"
   ]
  },
  {
   "cell_type": "code",
   "execution_count": 86,
   "metadata": {},
   "outputs": [],
   "source": [
    "class FindUnion:\n",
    "    def __init__(self,n):\n",
    "        self.matrix = np.zeros((n,n))\n",
    "        self.pointer_matrix = np.zeros((n,n))\n",
    "        self.cluster_dictionary = {}\n",
    "        self.indices = 0\n",
    "        self.iteration = 0\n",
    "    \n",
    "    def one_block(self, matrix):\n",
    "        \"\"\"\n",
    "        Write a 1 in a given matrix at random.\n",
    "        \"\"\"\n",
    "        self.indices = zip(*np.where(self.matrix == 0))\n",
    "        np.random.shuffle(self.indices)\n",
    "        (ind_0,ind_1) = self.indices[0]\n",
    "        matrix[ind_0][ind_1] = 1\n",
    "        return ind_0,ind_1\n",
    "    \n",
    "    def negbrs(self,i,j):\n",
    "        \"\"\"\n",
    "        Give neighbor indices\n",
    "        \"\"\"\n",
    "        return (i-1,j), (i+1,j), (i,j-1), (i,j+1)\n",
    "        \n",
    "    def dict_key_g_value(self,val):\n",
    "        \"\"\"\n",
    "        Print a key for a given value that already exists on dictionary\n",
    "        \"\"\"\n",
    "        return self.cluster_dictionary.keys()[self.cluster_dictionary.values().index(val)]\n",
    "    \n",
    "    def last_key(self,dictionary):\n",
    "        \"\"\"\n",
    "        give the last key for a dictionary\n",
    "        \"\"\"\n",
    "        return self.cluster_dictionary.keys()[-1]\n",
    "    \n",
    "    def update_dict(self,key,value):\n",
    "        \"\"\"Update the dictionary if there is a existing key\"\"\"\n",
    "        self.cluster_dictionary[key] = self.cluster_dictionary[key], value\n",
    "    \n",
    "    def image_matrix(self):\n",
    "        \"\"\"Plot image of the matrix\"\"\"\n",
    "        plt.imshow(self.matrix)\n",
    "        plt.show()\n",
    "    \n",
    "    def write_block(self):\n",
    "        \"\"\"\n",
    "        write a 1 in the matrix and feeds cluster dictionary\n",
    "        \"\"\"\n",
    "        ind_0,ind_1 = self.one_block(self.matrix)\n",
    "        neighbors = self.negbrs(ind_0,ind_1)\n",
    "        check_neighbors = False   \n",
    "        for i in neighbors:\n",
    "            for j in self.cluster_dictionary.values():\n",
    "                if i in j:\n",
    "                    self.cluster_dictionary[self.dict_key_g_value(j)].append((ind_0,ind_1))\n",
    "                    check_neighbors = True\n",
    "                    break\n",
    "\n",
    "        if check_neighbors == False:\n",
    "            self.cluster_dictionary[self.iteration] = [(ind_0,ind_1)]\n",
    "        self.iteration += 1\n",
    "    \n",
    "    def iterate(self,m, plot= False):\n",
    "        \"\"\"\n",
    "        Do m iterations.\n",
    "        Plot these interactions puting plot = True\n",
    "        \"\"\"\n",
    "        for _ in range(m):\n",
    "            self.write_block()\n",
    "            if plot == True:\n",
    "                plt.imshow(self.matrix)\n",
    "                plt.show()\n",
    "        "
   ]
  },
  {
   "cell_type": "code",
   "execution_count": 87,
   "metadata": {},
   "outputs": [],
   "source": [
    "n = 3\n",
    "b = FindUnion(n)"
   ]
  },
  {
   "cell_type": "code",
   "execution_count": 91,
   "metadata": {
    "scrolled": true
   },
   "outputs": [
    {
     "data": {
      "image/png": "[encoded data removed]",
      "text/plain": [
       "<Figure size 432x288 with 1 Axes>"
      ]
     },
     "metadata": {
      "needs_background": "light"
     },
     "output_type": "display_data"
    },
    {
     "data": {
      "image/png": "[encoded data removed]",
      "text/plain": [
       "<Figure size 432x288 with 1 Axes>"
      ]
     },
     "metadata": {
      "needs_background": "light"
     },
     "output_type": "display_data"
    }
   ],
   "source": [
    "b.iterate(2, plot= True)"
   ]
  },
  {
   "cell_type": "code",
   "execution_count": 92,
   "metadata": {},
   "outputs": [
    {
     "data": {
      "text/plain": [
       "{0: [(2, 1), (2, 2)], 1: [(1, 2), (0, 2), (2, 2)], 2: [(0, 0), (1, 0)]}"
      ]
     },
     "execution_count": 92,
     "metadata": {},
     "output_type": "execute_result"
    }
   ],
   "source": [
    "b.cluster_dictionary"
   ]
  },
  {
   "cell_type": "code",
   "execution_count": null,
   "metadata": {},
   "outputs": [],
   "source": []
  }
 ],
 "metadata": {
  "kernelspec": {
   "display_name": "Python 2",
   "language": "python",
   "name": "python2"
  },
  "language_info": {
   "codemirror_mode": {
    "name": "ipython",
    "version": 2
   },
   "file_extension": ".py",
   "mimetype": "text/x-python",
   "name": "python",
   "nbconvert_exporter": "python",
   "pygments_lexer": "ipython2",
   "version": "2.7.16"
  }
 },
 "nbformat": 4,
 "nbformat_minor": 2
}
