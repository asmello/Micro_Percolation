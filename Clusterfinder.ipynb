{
 "cells": [
  {
   "cell_type": "code",
   "execution_count": 1,
   "metadata": {},
   "outputs": [],
   "source": [
    "import numpy as np\n",
    "import matplotlib.pyplot as plt"
   ]
  },
  {
   "cell_type": "markdown",
   "metadata": {},
   "source": [
    "# Find/Union Algorithm for the percolation problem"
   ]
  },
  {
   "cell_type": "code",
   "execution_count": 2,
   "metadata": {},
   "outputs": [],
   "source": [
    "class FindUnion:\n",
    "    def __init__(self,n):\n",
    "        self.n = n  # caching to avoid computing len(matrix)\n",
    "        self.matrix = np.zeros((n,n), dtype=int)\n",
    "        self.clusters = []\n",
    "        self.cluster_stats = []\n",
    "    \n",
    "    def one_block(self, matrix):\n",
    "        \"\"\"\n",
    "        Write a 1 in a given matrix at random.\n",
    "        \"\"\"\n",
    "        i, j = np.random.choice(self.n, size=2)\n",
    "        matrix[i, j] = 1\n",
    "        return i, j\n",
    "    \n",
    "    def negbrs(self, i, j):\n",
    "        \"\"\"\n",
    "        Check if the neighbors are part of a cluster.\n",
    "        If there is only one cluster linked to the neighbor you append to this cluster.\n",
    "        If there is more than one cluster linked, you merge.\n",
    "        \"\"\"\n",
    "        supercluster = set()\n",
    "\n",
    "        # union applied here directly\n",
    "        \n",
    "        for k, cluster in enumerate(self.clusters):\n",
    "            if (i+1, j) in cluster:\n",
    "                supercluster |= cluster  # join neighbor cluster to supercluster\n",
    "                del self.clusters[k]  # remove neighbor cluster from clusters\n",
    "                break  # only one cluster may contain the neighbor\n",
    "        \n",
    "        for k, cluster in enumerate(self.clusters):\n",
    "            if (i, j+1) in cluster:\n",
    "                supercluster |= cluster  # join neighbor cluster to supercluster\n",
    "                del self.clusters[k]  # remove neighbor cluster from clusters\n",
    "                break  # only one cluster may contain the neighbor\n",
    "        \n",
    "        for k, cluster in enumerate(self.clusters):\n",
    "            if (i-1, j) in cluster:\n",
    "                supercluster |= cluster  # join neighbor cluster to supercluster\n",
    "                del self.clusters[k]  # remove neighbor cluster from clusters\n",
    "                break  # only one cluster may contain the neighbor\n",
    "        \n",
    "        for k, cluster in enumerate(self.clusters):\n",
    "            if (i, j-1) in cluster:\n",
    "                supercluster |= cluster  # join neighbor cluster to supercluster\n",
    "                del self.clusters[k]  # remove neighbor cluster from clusters\n",
    "                break  # only one cluster may contain the neighbor\n",
    "\n",
    "        if supercluster:\n",
    "            self.clusters.append(supercluster)  # add supercluster to clusters\n",
    "            return True\n",
    "        else:\n",
    "            return False\n",
    "    \n",
    "    def image_matrix(self):\n",
    "        \"\"\"Plot image of the matrix\"\"\"\n",
    "        plt.imshow(self.matrix)\n",
    "        plt.show()\n",
    "    \n",
    "    def write_block(self):\n",
    "        \"\"\"\n",
    "        Write a 1 in the matrix and feeds cluster dictionary using negbrs.\n",
    "        \"\"\"\n",
    "        i, j = self.one_block(self.matrix)\n",
    "        if not self.negbrs(i, j):\n",
    "            self.clusters.append({(i, j)})\n",
    "    \n",
    "    def cluster_lengths(self):\n",
    "        \"\"\"\n",
    "        Give a np.array with the number of clusters.\n",
    "        \"\"\"\n",
    "        return np.array([len(cluster) for cluster in self.clusters]).sort()\n",
    "    \n",
    "    def plot_histograms(self):\n",
    "        \"\"\"\n",
    "        Plot the histogram.\n",
    "        \"\"\"\n",
    "        for i in self.cluster_stats:\n",
    "            plt.hist(i)\n",
    "        plt.show()\n",
    "   \n",
    "    def check_percolation(self):\n",
    "        for cluster in self.clusters:\n",
    "            for i in range(self.n):\n",
    "                if (0, i) in cluster and (self.n-1, i) in cluster:\n",
    "                    return True\n",
    "        return False\n",
    "    \n",
    "    def iterate(self, m, plot=False):\n",
    "        \"\"\"\n",
    "        Do m iterations and write statistics for each step.\n",
    "        Plot these interactions puting plot = True\n",
    "        \"\"\"\n",
    "        for _ in range(m):\n",
    "            self.write_block()\n",
    "            self.cluster_stats.append(self.cluster_lengths())\n",
    "            check = self.check_percolation()\n",
    "            if plot:\n",
    "                self.image_matrix()\n",
    "            if check:\n",
    "                print(\"Percolated\")\n",
    "                break"
   ]
  },
  {
   "cell_type": "code",
   "execution_count": 3,
   "metadata": {},
   "outputs": [],
   "source": [
    "n = 160\n",
    "b = FindUnion(n)"
   ]
  },
  {
   "cell_type": "code",
   "execution_count": 4,
   "metadata": {
    "scrolled": true
   },
   "outputs": [
    {
     "name": "stdout",
     "output_type": "stream",
     "text": [
      "CPU times: user 3.16 s, sys: 12.3 ms, total: 3.18 s\n",
      "Wall time: 3.15 s\n"
     ]
    }
   ],
   "source": [
    "%%time\n",
    "b.iterate(1000)"
   ]
  },
  {
   "cell_type": "markdown",
   "metadata": {},
   "source": [
    "## This program scales with N²"
   ]
  },
  {
   "cell_type": "code",
   "execution_count": 5,
   "metadata": {},
   "outputs": [],
   "source": [
    "import time"
   ]
  },
  {
   "cell_type": "code",
   "execution_count": 6,
   "metadata": {},
   "outputs": [
    {
     "data": {
      "image/png": "[encoded data removed]",
      "text/plain": [
       "<Figure size 432x288 with 1 Axes>"
      ]
     },
     "metadata": {
      "needs_background": "light"
     },
     "output_type": "display_data"
    }
   ],
   "source": [
    "t = []\n",
    "x = np.linspace(10, 200, 10, dtype=int)\n",
    "for n in x:\n",
    "    samples = []\n",
    "    # take 10 samples to estimate mean time\n",
    "    for _ in range(10):\n",
    "        b = FindUnion(n)\n",
    "        start = time.clock()\n",
    "        b.iterate(1000)\n",
    "        end = time.clock()\n",
    "        samples.append(end - start)\n",
    "    t.append(sum(samples)/10)\n",
    "plt.plot(x, t)\n",
    "plt.show()"
   ]
  },
  {
   "cell_type": "code",
   "execution_count": 7,
   "metadata": {
    "scrolled": true
   },
   "outputs": [
    {
     "data": {
      "image/png": "[encoded data removed]",
      "text/plain": [
       "<Figure size 432x288 with 1 Axes>"
      ]
     },
     "metadata": {
      "needs_background": "light"
     },
     "output_type": "display_data"
    }
   ],
   "source": [
    "n = [5.,10.,20.,40.,80.,160.]\n",
    "n_2 = [i**2 for i in n]\n",
    "t = [2.86e-3,13.5e-3,216e-3,4.43, 14.3, 39.4]\n",
    "deg = 2\n",
    "p = np.poly1d(np.polyfit(n_2,t,deg))\n",
    "plt.plot(n_2, p(n_2), label = \"Pol fit of degree %i\" % deg)\n",
    "plt.plot(n_2,t)\n",
    "plt.title('Time')\n",
    "plt.xlabel('# of cells')\n",
    "plt.ylabel('time(s)')\n",
    "plt.legend()\n",
    "plt.show()"
   ]
  }
 ],
 "metadata": {
  "kernelspec": {
   "display_name": "Python 3",
   "language": "python",
   "name": "python3"
  },
  "language_info": {
   "codemirror_mode": {
    "name": "ipython",
    "version": 3
   },
   "file_extension": ".py",
   "mimetype": "text/x-python",
   "name": "python",
   "nbconvert_exporter": "python",
   "pygments_lexer": "ipython3",
   "version": "3.6.7"
  }
 },
 "nbformat": 4,
 "nbformat_minor": 2
}
