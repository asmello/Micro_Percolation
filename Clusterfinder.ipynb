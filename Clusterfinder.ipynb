{
 "cells": [
  {
   "cell_type": "code",
   "execution_count": 3,
   "metadata": {},
   "outputs": [],
   "source": [
    "import numpy as np\n",
    "import matplotlib.pyplot as plt"
   ]
  },
  {
   "cell_type": "markdown",
   "metadata": {},
   "source": [
    "# Find/Union Algorithm for the percolation problem"
   ]
  },
  {
   "cell_type": "code",
   "execution_count": 115,
   "metadata": {},
   "outputs": [],
   "source": [
    "class FindUnion:\n",
    "    def __init__(self,n):\n",
    "        self.matrix = np.zeros((n,n))\n",
    "        self.cluster_dictionary = {}\n",
    "        self.indices = 0\n",
    "        self.iteration = 0\n",
    "        self.n_cluster = []\n",
    "        self.x2_cluster = [] #susceptibility\n",
    "        \n",
    "    \n",
    "    def one_block(self, matrix):\n",
    "        \"\"\"\n",
    "        Write a 1 in a given matrix at random.\n",
    "        \"\"\"\n",
    "        self.indices = zip(*np.where(self.matrix == 0))\n",
    "        np.random.shuffle(self.indices)\n",
    "        (ind_0,ind_1) = self.indices[0]\n",
    "        matrix[ind_0][ind_1] = 1\n",
    "        return ind_0,ind_1\n",
    "    \n",
    "    def union(self,i,j,key):\n",
    "        \"\"\"\n",
    "        Make the union of clusters of a given list of keys and sort indices.\n",
    "        \"\"\"\n",
    "        \n",
    "        if len(key) == 1:\n",
    "            self.cluster_dictionary[key[0]].append((i,j))\n",
    "        \n",
    "        if len(key) == 2:\n",
    "            if len(self.cluster_dictionary[key[0]]) >= len(self.cluster_dictionary[key[1]]):\n",
    "                [vv] = self.cluster_dictionary.pop(key[1])\n",
    "                self.cluster_dictionary[key[0]].append(vv)\n",
    "                #self.cluster_dictionary[key[0]].append((i,j))\n",
    "                \n",
    "            else:\n",
    "                vv = self.cluster_dictionary.pop(key[0])\n",
    "                print(vv)\n",
    "                self.cluster_dictionary[key[1]].append(vv)\n",
    "                #self.cluster_dictionary[key[1]].append((i,j))\n",
    "                \n",
    "        if len(key) == 3:\n",
    "            [vv] = self.cluster_dictionary.pop(key[0]) #Too many values to unpack ?\n",
    "            [vvv] = self.cluster_dictionary.pop(key[1])\n",
    "            self.cluster_dictionary[key[2]].append(vv)\n",
    "            self.cluster_dictionary[key[2]].append(vvv)\n",
    "        \n",
    "        if len(key) == 4:\n",
    "            [vv] = self.cluster_dictionary.pop(key[0])\n",
    "            [vvv] = self.cluster_dictionary.pop(key[1])\n",
    "            [vvvv] = self.cluster_dictionary.pop(key[2])\n",
    "            self.cluster_dictionary[key[3]].append(vv)\n",
    "            self.cluster_dictionary[key[3]].append(vvv)\n",
    "            self.cluster_dictionary[key[3]].append(vvvv)\n",
    "            \n",
    "    \n",
    "    \n",
    "    def negbrs(self,i,j):\n",
    "        \"\"\"\n",
    "        Check if the neighbors are part of a cluster.\n",
    "        If there is only one cluster linked to the neighbor you append to this cluster.\n",
    "        If there is more than one cluster linked, you merge.\n",
    "        \"\"\"\n",
    "        neigh = False\n",
    "        key = []\n",
    "        for k,vals in b.cluster_dictionary.items():\n",
    "            if (i+1, j) in vals:\n",
    "                if k not in key:\n",
    "                    key.append(k)\n",
    "                neigh = True\n",
    "            if (i, j+1) in vals:\n",
    "                if k not in key:\n",
    "                    key.append(k)\n",
    "                neigh = True\n",
    "            if (i-1, j) in vals:\n",
    "                if k not in key:\n",
    "                    key.append(k)\n",
    "                neigh = True\n",
    "            if (i, j-1) in vals:\n",
    "                if k not in key:\n",
    "                    key.append(k)\n",
    "                neigh = True\n",
    "            self.union(i,j,key)\n",
    "        return neigh\n",
    "        \n",
    "    def dict_key_g_value(self,val):\n",
    "        \"\"\"\n",
    "        Print a key for a given value that already exists on dictionary\n",
    "        \"\"\"\n",
    "        return self.cluster_dictionary.keys()[self.cluster_dictionary.values().index(val)]\n",
    "    \n",
    "    def update_dict(self,key,value):\n",
    "        \"\"\"Update the dictionary if there is a existing key\"\"\"\n",
    "        self.cluster_dictionary[key] = self.cluster_dictionary[key], value\n",
    "    \n",
    "    def image_matrix(self):\n",
    "        \"\"\"Plot image of the matrix\"\"\"\n",
    "        plt.imshow(self.matrix)\n",
    "        plt.show()\n",
    "    \n",
    "    def write_block(self):\n",
    "        \"\"\"\n",
    "        Write a 1 in the matrix and feeds cluster dictionary using negbrs.\n",
    "        \"\"\"\n",
    "        ind_0,ind_1 = self.one_block(self.matrix)\n",
    "        check_neighbors = self.negbrs(ind_0,ind_1)\n",
    "        if check_neighbors == False:\n",
    "            self.cluster_dictionary[self.iteration] = [(ind_0,ind_1)]\n",
    "            self.iteration += 1\n",
    "    \n",
    "    def dic_statistics(self):\n",
    "        \"\"\"\n",
    "        Give a np.array with the number of clusters.\n",
    "        \"\"\"\n",
    "        c_number = []\n",
    "        for i in self.cluster_dictionary.keys():\n",
    "            c_number.append(len(b.cluster_dictionary[i]))\n",
    "        c_number.sort()\n",
    "        return np.array(c_number)\n",
    "    \n",
    "    def plot_histograms(self):\n",
    "        \"\"\"\n",
    "        Plot the histogram.\n",
    "        \"\"\"\n",
    "        for i in self.n_cluster:\n",
    "            plt.hist(i)\n",
    "        plt.show()\n",
    "   \n",
    "    def check_percolation(self):\n",
    "        percolation = False\n",
    "        for i in range(n):\n",
    "            for vals in self.cluster_dictionary.values():\n",
    "                if (0,i) in vals:\n",
    "                    if (n-1,i) in vals:\n",
    "                        percolation = True\n",
    "                        break\n",
    "        return percolation\n",
    "    \n",
    "    def iterate(self,m, plot= False):\n",
    "        \"\"\"\n",
    "        Do m iterations and write statistics for each step.\n",
    "        Plot these interactions puting plot = True\n",
    "        \"\"\"\n",
    "        for _ in range(m):\n",
    "            self.write_block()\n",
    "            self.n_cluster.append(self.dic_statistics())\n",
    "            check = self.check_percolation()\n",
    "            if plot == True:\n",
    "                plt.imshow(self.matrix)\n",
    "                plt.show()\n",
    "            if check == True:\n",
    "                print(\"Percolated\")\n",
    "                break\n",
    "        "
   ]
  },
  {
   "cell_type": "code",
   "execution_count": 116,
   "metadata": {},
   "outputs": [],
   "source": [
    "n = 3\n",
    "b = FindUnion(n)"
   ]
  },
  {
   "cell_type": "code",
   "execution_count": 123,
   "metadata": {
    "scrolled": true
   },
   "outputs": [
    {
     "data": {
      "image/png": "[encoded data removed]",
      "text/plain": [
       "<Figure size 432x288 with 1 Axes>"
      ]
     },
     "metadata": {
      "needs_background": "light"
     },
     "output_type": "display_data"
    },
    {
     "name": "stdout",
     "output_type": "stream",
     "text": [
      "Percolated\n"
     ]
    }
   ],
   "source": [
    "b.iterate(1, plot= True)"
   ]
  },
  {
   "cell_type": "code",
   "execution_count": 124,
   "metadata": {},
   "outputs": [
    {
     "data": {
      "text/plain": [
       "{0: [(2, 1), (1, 1), (0, 1), (0, 2)]}"
      ]
     },
     "execution_count": 124,
     "metadata": {},
     "output_type": "execute_result"
    }
   ],
   "source": [
    "b.cluster_dictionary"
   ]
  },
  {
   "cell_type": "code",
   "execution_count": 77,
   "metadata": {},
   "outputs": [
    {
     "data": {
      "text/plain": [
       "False"
      ]
     },
     "execution_count": 77,
     "metadata": {},
     "output_type": "execute_result"
    }
   ],
   "source": [
    "b.check_percolation()"
   ]
  },
  {
   "cell_type": "code",
   "execution_count": null,
   "metadata": {},
   "outputs": [],
   "source": []
  }
 ],
 "metadata": {
  "kernelspec": {
   "display_name": "Python 2",
   "language": "python",
   "name": "python2"
  },
  "language_info": {
   "codemirror_mode": {
    "name": "ipython",
    "version": 2
   },
   "file_extension": ".py",
   "mimetype": "text/x-python",
   "name": "python",
   "nbconvert_exporter": "python",
   "pygments_lexer": "ipython2",
   "version": "2.7.16"
  }
 },
 "nbformat": 4,
 "nbformat_minor": 2
}
